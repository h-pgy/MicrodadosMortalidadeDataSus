{
 "cells": [
  {
   "cell_type": "code",
   "execution_count": 1,
   "metadata": {},
   "outputs": [],
   "source": [
    "import pandas as pd\n",
    "import os"
   ]
  },
  {
   "cell_type": "code",
   "execution_count": 2,
   "metadata": {},
   "outputs": [],
   "source": [
    "def df_only_pmsp(path_csvs):\n",
    "    \n",
    "    csvs = [os.path.join(path_csvs, file) for file in os.listdir(path_csvs)]\n",
    "    dfs =[]\n",
    "\n",
    "    for csv in csvs:\n",
    "        try:\n",
    "            df = pd.read_csv(csv, sep = ';', encoding = 'Latin-1')\n",
    "            #filtra para muncipio sp:\n",
    "            df = df[df['CODMUNOCOR'].apply(str).str.contains('355030')].copy().reset_index(drop = True) \n",
    "            dfs.append(df)\n",
    "        except Exception as e:\n",
    "            print(f'Erro ao ler o arquivo {csv}: {repr(e)}')\n",
    "\n",
    "    df = pd.concat(dfs)\n",
    "    \n",
    "    return df"
   ]
  },
  {
   "cell_type": "code",
   "execution_count": 3,
   "metadata": {},
   "outputs": [],
   "source": [
    "def arrumar_dt_obito(df):\n",
    "    \n",
    "    def tratar_data(item):\n",
    "        item = str(item)\n",
    "        if len(item)==7:\n",
    "            dia = '0' + item[0]\n",
    "            mes = item[1:3]\n",
    "            ano = item[3:]\n",
    "        else:\n",
    "            dia = item[:2]\n",
    "            mes = item[2:4]\n",
    "            ano = item[4:]\n",
    "\n",
    "        return f'{dia}/{mes}/{ano}'\n",
    "    \n",
    "    df['DTOBITO_Clean'] = df['DTOBITO'].apply(tratar_data)"
   ]
  },
  {
   "cell_type": "code",
   "execution_count": 4,
   "metadata": {},
   "outputs": [],
   "source": [
    "def traduzir_loc_ocorr(df):\n",
    "    \n",
    "    def aux(item):\n",
    "        \n",
    "        mapper = {\n",
    "            1 : 'hospital', \n",
    "            2 : 'outros estabelecimentos de saúde', \n",
    "            3 : 'domicílio', \n",
    "            4 : 'via pública', \n",
    "            5 : 'outros', \n",
    "            6 : 'aldeia indígena', \n",
    "            9 : 'ignorado',\n",
    "        }\n",
    "        \n",
    "        if pd.isnull(item):\n",
    "            return 'não preenchido'\n",
    "        elif item == 0:\n",
    "            return 'não preenchido'\n",
    "        else:\n",
    "            item = int(item)\n",
    "        \n",
    "        return mapper[item]\n",
    "    \n",
    "    df['LocalOcorrenciaTexto'] = df['LOCOCOR'].apply(aux)"
   ]
  },
  {
   "cell_type": "code",
   "execution_count": 5,
   "metadata": {},
   "outputs": [],
   "source": [
    "path_csvs = 'SIM_SP_CSV'"
   ]
  },
  {
   "cell_type": "code",
   "execution_count": 6,
   "metadata": {},
   "outputs": [
    {
     "name": "stderr",
     "output_type": "stream",
     "text": [
      "C:\\Users\\h-pgy\\Anaconda3\\lib\\site-packages\\IPython\\core\\interactiveshell.py:3249: DtypeWarning: Columns (25) have mixed types. Specify dtype option on import or set low_memory=False.\n",
      "  if (await self.run_code(code, result,  async_=asy)):\n",
      "C:\\Users\\h-pgy\\Anaconda3\\lib\\site-packages\\IPython\\core\\interactiveshell.py:3249: DtypeWarning: Columns (17) have mixed types. Specify dtype option on import or set low_memory=False.\n",
      "  if (await self.run_code(code, result,  async_=asy)):\n",
      "C:\\Users\\h-pgy\\Anaconda3\\lib\\site-packages\\IPython\\core\\interactiveshell.py:3249: DtypeWarning: Columns (10,17) have mixed types. Specify dtype option on import or set low_memory=False.\n",
      "  if (await self.run_code(code, result,  async_=asy)):\n",
      "C:\\Users\\h-pgy\\Anaconda3\\lib\\site-packages\\IPython\\core\\interactiveshell.py:3249: DtypeWarning: Columns (17,26) have mixed types. Specify dtype option on import or set low_memory=False.\n",
      "  if (await self.run_code(code, result,  async_=asy)):\n",
      "C:\\Users\\h-pgy\\Anaconda3\\lib\\site-packages\\IPython\\core\\interactiveshell.py:3249: DtypeWarning: Columns (4,29) have mixed types. Specify dtype option on import or set low_memory=False.\n",
      "  if (await self.run_code(code, result,  async_=asy)):\n",
      "C:\\Users\\h-pgy\\Anaconda3\\lib\\site-packages\\IPython\\core\\interactiveshell.py:3249: DtypeWarning: Columns (4) have mixed types. Specify dtype option on import or set low_memory=False.\n",
      "  if (await self.run_code(code, result,  async_=asy)):\n",
      "C:\\Users\\h-pgy\\Anaconda3\\lib\\site-packages\\IPython\\core\\interactiveshell.py:3249: DtypeWarning: Columns (63) have mixed types. Specify dtype option on import or set low_memory=False.\n",
      "  if (await self.run_code(code, result,  async_=asy)):\n",
      "C:\\Users\\h-pgy\\Anaconda3\\lib\\site-packages\\IPython\\core\\interactiveshell.py:3249: DtypeWarning: Columns (5,20,49,69) have mixed types. Specify dtype option on import or set low_memory=False.\n",
      "  if (await self.run_code(code, result,  async_=asy)):\n",
      "C:\\Users\\h-pgy\\Anaconda3\\lib\\site-packages\\IPython\\core\\interactiveshell.py:3249: DtypeWarning: Columns (20,49,69) have mixed types. Specify dtype option on import or set low_memory=False.\n",
      "  if (await self.run_code(code, result,  async_=asy)):\n",
      "C:\\Users\\h-pgy\\Anaconda3\\lib\\site-packages\\IPython\\core\\interactiveshell.py:3249: DtypeWarning: Columns (69) have mixed types. Specify dtype option on import or set low_memory=False.\n",
      "  if (await self.run_code(code, result,  async_=asy)):\n",
      "C:\\Users\\h-pgy\\Anaconda3\\lib\\site-packages\\IPython\\core\\interactiveshell.py:3249: DtypeWarning: Columns (68) have mixed types. Specify dtype option on import or set low_memory=False.\n",
      "  if (await self.run_code(code, result,  async_=asy)):\n",
      "C:\\Users\\h-pgy\\Anaconda3\\lib\\site-packages\\ipykernel_launcher.py:15: FutureWarning: Sorting because non-concatenation axis is not aligned. A future version\n",
      "of pandas will change to not sort by default.\n",
      "\n",
      "To accept the future behavior, pass 'sort=False'.\n",
      "\n",
      "To retain the current behavior and silence the warning, pass 'sort=True'.\n",
      "\n",
      "  from ipykernel import kernelapp as app\n"
     ]
    }
   ],
   "source": [
    "df = df_only_pmsp(path_csvs)"
   ]
  },
  {
   "cell_type": "code",
   "execution_count": 7,
   "metadata": {},
   "outputs": [
    {
     "data": {
      "text/plain": [
       "array([3550308,  355030], dtype=int64)"
      ]
     },
     "execution_count": 7,
     "metadata": {},
     "output_type": "execute_result"
    }
   ],
   "source": [
    "df['CODMUNOCOR'].unique()"
   ]
  },
  {
   "cell_type": "code",
   "execution_count": 8,
   "metadata": {},
   "outputs": [],
   "source": [
    "colunas = ['DTOBITO', 'CODMUNOCOR', 'CODMUNRES', 'CAUSABAS', 'LOCOCOR']"
   ]
  },
  {
   "cell_type": "code",
   "execution_count": 9,
   "metadata": {},
   "outputs": [],
   "source": [
    "df = df[colunas]"
   ]
  },
  {
   "cell_type": "code",
   "execution_count": 10,
   "metadata": {},
   "outputs": [],
   "source": [
    "arrumar_dt_obito(df)"
   ]
  },
  {
   "cell_type": "code",
   "execution_count": 11,
   "metadata": {},
   "outputs": [],
   "source": [
    "traduzir_loc_ocorr(df)"
   ]
  },
  {
   "cell_type": "code",
   "execution_count": 12,
   "metadata": {},
   "outputs": [
    {
     "data": {
      "text/html": [
       "<div>\n",
       "<style scoped>\n",
       "    .dataframe tbody tr th:only-of-type {\n",
       "        vertical-align: middle;\n",
       "    }\n",
       "\n",
       "    .dataframe tbody tr th {\n",
       "        vertical-align: top;\n",
       "    }\n",
       "\n",
       "    .dataframe thead th {\n",
       "        text-align: right;\n",
       "    }\n",
       "</style>\n",
       "<table border=\"1\" class=\"dataframe\">\n",
       "  <thead>\n",
       "    <tr style=\"text-align: right;\">\n",
       "      <th></th>\n",
       "      <th>DTOBITO</th>\n",
       "      <th>CODMUNOCOR</th>\n",
       "      <th>CODMUNRES</th>\n",
       "      <th>CAUSABAS</th>\n",
       "      <th>LOCOCOR</th>\n",
       "      <th>DTOBITO_Clean</th>\n",
       "      <th>LocalOcorrenciaTexto</th>\n",
       "    </tr>\n",
       "  </thead>\n",
       "  <tbody>\n",
       "    <tr>\n",
       "      <td>0</td>\n",
       "      <td>15021996</td>\n",
       "      <td>3550308</td>\n",
       "      <td>3550308</td>\n",
       "      <td>Y349</td>\n",
       "      <td>NaN</td>\n",
       "      <td>15/02/1996</td>\n",
       "      <td>não preenchido</td>\n",
       "    </tr>\n",
       "    <tr>\n",
       "      <td>1</td>\n",
       "      <td>28091996</td>\n",
       "      <td>3550308</td>\n",
       "      <td>3550308</td>\n",
       "      <td>V892</td>\n",
       "      <td>4.0</td>\n",
       "      <td>28/09/1996</td>\n",
       "      <td>via pública</td>\n",
       "    </tr>\n",
       "    <tr>\n",
       "      <td>2</td>\n",
       "      <td>8011996</td>\n",
       "      <td>3550308</td>\n",
       "      <td>3550308</td>\n",
       "      <td>Y349</td>\n",
       "      <td>4.0</td>\n",
       "      <td>08/01/1996</td>\n",
       "      <td>via pública</td>\n",
       "    </tr>\n",
       "    <tr>\n",
       "      <td>3</td>\n",
       "      <td>2011996</td>\n",
       "      <td>3550308</td>\n",
       "      <td>3534401</td>\n",
       "      <td>C187</td>\n",
       "      <td>1.0</td>\n",
       "      <td>02/01/1996</td>\n",
       "      <td>hospital</td>\n",
       "    </tr>\n",
       "    <tr>\n",
       "      <td>4</td>\n",
       "      <td>1011996</td>\n",
       "      <td>3550308</td>\n",
       "      <td>3550308</td>\n",
       "      <td>I694</td>\n",
       "      <td>1.0</td>\n",
       "      <td>01/01/1996</td>\n",
       "      <td>hospital</td>\n",
       "    </tr>\n",
       "  </tbody>\n",
       "</table>\n",
       "</div>"
      ],
      "text/plain": [
       "    DTOBITO  CODMUNOCOR  CODMUNRES CAUSABAS  LOCOCOR DTOBITO_Clean  \\\n",
       "0  15021996     3550308    3550308     Y349      NaN    15/02/1996   \n",
       "1  28091996     3550308    3550308     V892      4.0    28/09/1996   \n",
       "2   8011996     3550308    3550308     Y349      4.0    08/01/1996   \n",
       "3   2011996     3550308    3534401     C187      1.0    02/01/1996   \n",
       "4   1011996     3550308    3550308     I694      1.0    01/01/1996   \n",
       "\n",
       "  LocalOcorrenciaTexto  \n",
       "0       não preenchido  \n",
       "1          via pública  \n",
       "2          via pública  \n",
       "3             hospital  \n",
       "4             hospital  "
      ]
     },
     "execution_count": 12,
     "metadata": {},
     "output_type": "execute_result"
    }
   ],
   "source": [
    "df.head()"
   ]
  },
  {
   "cell_type": "code",
   "execution_count": 13,
   "metadata": {},
   "outputs": [],
   "source": [
    "df['ano'] = df['DTOBITO'].apply(lambda x: str(x)[-4:])"
   ]
  },
  {
   "cell_type": "code",
   "execution_count": 14,
   "metadata": {},
   "outputs": [
    {
     "data": {
      "text/plain": [
       "array(['1996', '1997', '1998', '1999', '2000', '2001', '2002', '2003',\n",
       "       '2004', '2005', '2006', '2008', '2009', '2013', '2014', '2015',\n",
       "       '2016', '2017', '2018'], dtype=object)"
      ]
     },
     "execution_count": 14,
     "metadata": {},
     "output_type": "execute_result"
    }
   ],
   "source": [
    "df['ano'].unique()"
   ]
  },
  {
   "cell_type": "code",
   "execution_count": 15,
   "metadata": {},
   "outputs": [],
   "source": [
    "df.to_csv('DadosObitoSampa.csv', encoding = 'latin-1', sep = ';')"
   ]
  },
  {
   "cell_type": "code",
   "execution_count": 20,
   "metadata": {},
   "outputs": [],
   "source": [
    "df[df['ano']=='2018'].to_csv('DadosObitoSampa_2018.csv', encoding = 'latin-1', sep = ';')"
   ]
  },
  {
   "cell_type": "code",
   "execution_count": null,
   "metadata": {},
   "outputs": [],
   "source": []
  }
 ],
 "metadata": {
  "kernelspec": {
   "display_name": "Python 3",
   "language": "python",
   "name": "python3"
  },
  "language_info": {
   "codemirror_mode": {
    "name": "ipython",
    "version": 3
   },
   "file_extension": ".py",
   "mimetype": "text/x-python",
   "name": "python",
   "nbconvert_exporter": "python",
   "pygments_lexer": "ipython3",
   "version": "3.7.4"
  }
 },
 "nbformat": 4,
 "nbformat_minor": 4
}
